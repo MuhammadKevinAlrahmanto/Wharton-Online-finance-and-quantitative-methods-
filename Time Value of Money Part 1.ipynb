{
 "cells": [
  {
   "cell_type": "markdown",
   "id": "b82cfd13",
   "metadata": {},
   "source": [
    "# Time Value of Money\n",
    "#### Muhammad Kevin Alrahmanto (19/445592/PA/19416, Universitas Gadjah Mada)"
   ]
  },
  {
   "cell_type": "code",
   "execution_count": 2,
   "id": "8e24b445",
   "metadata": {},
   "outputs": [],
   "source": [
    "import pandas as pd\n",
    "import numpy as np\n",
    "import matplotlib.pyplot as plt\n",
    "import seaborn as sns"
   ]
  },
  {
   "cell_type": "markdown",
   "id": "5a2337a5",
   "metadata": {},
   "source": [
    "# 1. Discounting and compounding cash flows"
   ]
  },
  {
   "cell_type": "markdown",
   "id": "11e1f6c8",
   "metadata": {},
   "source": [
    "- Money has a time unit.\n",
    "- Need exchange rate ($R$) for time a.k.a., rate of return, hurdle rate, opprtunity cost of capital\n",
    "- \"Never\" add/subtract cash flows received at different times."
   ]
  },
  {
   "cell_type": "markdown",
   "id": "486cb376",
   "metadata": {},
   "source": [
    "## 1.1  Discounting with constant cash flows (Simulation 1)"
   ]
  },
  {
   "cell_type": "markdown",
   "id": "95ce0095",
   "metadata": {},
   "source": [
    "- Discounting cash flows moves them back in time\n",
    "\n",
    "Present value (PV) of cash flows (CFs) is discounted value of CFs as of time (t):\n",
    "$$\n",
    "PV=\\sum_{t=1}^{\\;n}\\frac{CF}{{(1+R)}^t}\n",
    "$$"
   ]
  },
  {
   "cell_type": "markdown",
   "id": "72e88ea3",
   "metadata": {},
   "source": [
    "Example: How much do you have to save today to withdraw $100 at the end of each of the next 9 years if you can earn 5% PER ANNUM?"
   ]
  },
  {
   "cell_type": "code",
   "execution_count": 176,
   "id": "730e71aa",
   "metadata": {},
   "outputs": [],
   "source": [
    "cf=100\n",
    "periods=9\n",
    "rate=5"
   ]
  },
  {
   "cell_type": "code",
   "execution_count": 177,
   "id": "a1076d21",
   "metadata": {},
   "outputs": [
    {
     "data": {
      "text/html": [
       "<div>\n",
       "<style scoped>\n",
       "    .dataframe tbody tr th:only-of-type {\n",
       "        vertical-align: middle;\n",
       "    }\n",
       "\n",
       "    .dataframe tbody tr th {\n",
       "        vertical-align: top;\n",
       "    }\n",
       "\n",
       "    .dataframe thead th {\n",
       "        text-align: right;\n",
       "    }\n",
       "</style>\n",
       "<table border=\"1\" class=\"dataframe\">\n",
       "  <thead>\n",
       "    <tr style=\"text-align: right;\">\n",
       "      <th></th>\n",
       "      <th>PV(CF_0)</th>\n",
       "      <th>CF_1</th>\n",
       "      <th>CF_2</th>\n",
       "      <th>CF_3</th>\n",
       "      <th>CF_4</th>\n",
       "      <th>CF_5</th>\n",
       "      <th>CF_6</th>\n",
       "      <th>CF_7</th>\n",
       "      <th>CF_8</th>\n",
       "      <th>CF_9</th>\n",
       "    </tr>\n",
       "  </thead>\n",
       "  <tbody>\n",
       "    <tr>\n",
       "      <th>cash</th>\n",
       "      <td>710.78</td>\n",
       "      <td>100.0</td>\n",
       "      <td>100.0</td>\n",
       "      <td>100.0</td>\n",
       "      <td>100.0</td>\n",
       "      <td>100.0</td>\n",
       "      <td>100.0</td>\n",
       "      <td>100.0</td>\n",
       "      <td>100.0</td>\n",
       "      <td>100.0</td>\n",
       "    </tr>\n",
       "  </tbody>\n",
       "</table>\n",
       "</div>"
      ],
      "text/plain": [
       "      PV(CF_0)   CF_1   CF_2   CF_3   CF_4   CF_5   CF_6   CF_7   CF_8   CF_9\n",
       "cash    710.78  100.0  100.0  100.0  100.0  100.0  100.0  100.0  100.0  100.0"
      ]
     },
     "execution_count": 177,
     "metadata": {},
     "output_type": "execute_result"
    }
   ],
   "source": [
    "CFs=pd.DataFrame({'cash':[np.round(np.sum([cf*(1+rate/100)**-period for period in range(1, periods+1)]),2)] + [cf]*periods},\n",
    "                 index=['CF_'+str(period) if period >0 else 'PV(CF_0)' for period in range(periods+1)])\n",
    "CFs.T"
   ]
  },
  {
   "cell_type": "code",
   "execution_count": 178,
   "id": "017411cd",
   "metadata": {},
   "outputs": [
    {
     "name": "stdout",
     "output_type": "stream",
     "text": [
      "We need $710.78 today in an account earning 5% each year \n",
      "so that we can withdraw $100 at the end of each the next 9 years\n"
     ]
    }
   ],
   "source": [
    "interpretation=f'We need ${CFs.iloc[0][0]} today in an account earning {rate}% each year \\nso that we can withdraw ${cf} at the end of each the next {periods} years'\n",
    "print(interpretation)"
   ]
  },
  {
   "cell_type": "code",
   "execution_count": 179,
   "id": "2d4419e3",
   "metadata": {},
   "outputs": [
    {
     "data": {
      "text/html": [
       "<div>\n",
       "<style scoped>\n",
       "    .dataframe tbody tr th:only-of-type {\n",
       "        vertical-align: middle;\n",
       "    }\n",
       "\n",
       "    .dataframe tbody tr th {\n",
       "        vertical-align: top;\n",
       "    }\n",
       "\n",
       "    .dataframe thead th {\n",
       "        text-align: right;\n",
       "    }\n",
       "</style>\n",
       "<table border=\"1\" class=\"dataframe\">\n",
       "  <thead>\n",
       "    <tr style=\"text-align: right;\">\n",
       "      <th></th>\n",
       "      <th>Interest</th>\n",
       "      <th>Pre-Withdrawal Balance</th>\n",
       "      <th>Withdrawal</th>\n",
       "      <th>Post-Withdrawal Balance</th>\n",
       "    </tr>\n",
       "    <tr>\n",
       "      <th>Year</th>\n",
       "      <th></th>\n",
       "      <th></th>\n",
       "      <th></th>\n",
       "      <th></th>\n",
       "    </tr>\n",
       "  </thead>\n",
       "  <tbody>\n",
       "    <tr>\n",
       "      <th>0</th>\n",
       "      <td>0.00</td>\n",
       "      <td>0.00</td>\n",
       "      <td>0</td>\n",
       "      <td>710.78</td>\n",
       "    </tr>\n",
       "    <tr>\n",
       "      <th>1</th>\n",
       "      <td>35.54</td>\n",
       "      <td>746.32</td>\n",
       "      <td>100</td>\n",
       "      <td>646.32</td>\n",
       "    </tr>\n",
       "    <tr>\n",
       "      <th>2</th>\n",
       "      <td>32.32</td>\n",
       "      <td>678.64</td>\n",
       "      <td>100</td>\n",
       "      <td>578.64</td>\n",
       "    </tr>\n",
       "    <tr>\n",
       "      <th>3</th>\n",
       "      <td>28.93</td>\n",
       "      <td>607.57</td>\n",
       "      <td>100</td>\n",
       "      <td>507.57</td>\n",
       "    </tr>\n",
       "    <tr>\n",
       "      <th>4</th>\n",
       "      <td>25.38</td>\n",
       "      <td>532.95</td>\n",
       "      <td>100</td>\n",
       "      <td>432.95</td>\n",
       "    </tr>\n",
       "    <tr>\n",
       "      <th>5</th>\n",
       "      <td>21.65</td>\n",
       "      <td>454.60</td>\n",
       "      <td>100</td>\n",
       "      <td>354.60</td>\n",
       "    </tr>\n",
       "    <tr>\n",
       "      <th>6</th>\n",
       "      <td>17.73</td>\n",
       "      <td>372.33</td>\n",
       "      <td>100</td>\n",
       "      <td>272.32</td>\n",
       "    </tr>\n",
       "    <tr>\n",
       "      <th>7</th>\n",
       "      <td>13.62</td>\n",
       "      <td>285.94</td>\n",
       "      <td>100</td>\n",
       "      <td>185.94</td>\n",
       "    </tr>\n",
       "    <tr>\n",
       "      <th>8</th>\n",
       "      <td>9.30</td>\n",
       "      <td>195.24</td>\n",
       "      <td>100</td>\n",
       "      <td>95.24</td>\n",
       "    </tr>\n",
       "    <tr>\n",
       "      <th>9</th>\n",
       "      <td>4.76</td>\n",
       "      <td>100.00</td>\n",
       "      <td>100</td>\n",
       "      <td>0.00</td>\n",
       "    </tr>\n",
       "  </tbody>\n",
       "</table>\n",
       "</div>"
      ],
      "text/plain": [
       "      Interest  Pre-Withdrawal Balance  Withdrawal  Post-Withdrawal Balance\n",
       "Year                                                                       \n",
       "0         0.00                    0.00           0                   710.78\n",
       "1        35.54                  746.32         100                   646.32\n",
       "2        32.32                  678.64         100                   578.64\n",
       "3        28.93                  607.57         100                   507.57\n",
       "4        25.38                  532.95         100                   432.95\n",
       "5        21.65                  454.60         100                   354.60\n",
       "6        17.73                  372.33         100                   272.32\n",
       "7        13.62                  285.94         100                   185.94\n",
       "8         9.30                  195.24         100                    95.24\n",
       "9         4.76                  100.00         100                     0.00"
      ]
     },
     "execution_count": 179,
     "metadata": {},
     "output_type": "execute_result"
    }
   ],
   "source": [
    "post_wb=np.round(np.cumsum([cf*(1+rate/100)**-period for period in range(1, periods+1)]),2)#Post-Withdrawal Balance\n",
    "interest=np.round(post_wb*rate/100,2)\n",
    "saving_simulation=pd.DataFrame({'Year': np.arange(periods+1),\n",
    "                                'Interest': np.hstack((0,interest[::-1])),\n",
    "                                'Pre-Withdrawal Balance': np.hstack((post_wb+interest,0))[::-1],  \n",
    "                                'Withdrawal': np.hstack((0,[cf]*periods)), \n",
    "                                'Post-Withdrawal Balance': np.hstack((post_wb[::-1], 0))}).set_index('Year')\n",
    "saving_simulation"
   ]
  },
  {
   "cell_type": "code",
   "execution_count": 180,
   "id": "20538e40",
   "metadata": {},
   "outputs": [
    {
     "data": {
      "image/png": "[encoded data removed]",
      "text/plain": [
       "<Figure size 576x432 with 1 Axes>"
      ]
     },
     "metadata": {
      "needs_background": "light"
     },
     "output_type": "display_data"
    }
   ],
   "source": [
    "plt.scatter(saving_simulation.index[1:], saving_simulation[\"Interest\"][1:], label =\"Interest\", color='blue', s=50, marker='+')\n",
    "plt.scatter(saving_simulation.index[1:], saving_simulation[\"Pre-Withdrawal Balance\"][1:], label =\"Pre-Withdrawal Balance\", color='cyan', s=50, marker='s')\n",
    "plt.scatter(saving_simulation.index[1:], saving_simulation[\"Withdrawal\"][1:], label =\"Withdrawal\", color='red', s=100, marker='_')\n",
    "plt.step(saving_simulation.index, saving_simulation[\"Post-Withdrawal Balance\"], where='post', lw=3, label =\"Post-Withdrawal Balance\", alpha=0.3)\n",
    "plt.step(saving_simulation.index[1:], np.cumsum(saving_simulation[\"Withdrawal\"])[1:], where='post', lw=3, label =\"Cummulative Withdrawal\", alpha=0.5)\n",
    "\n",
    "plt.xlabel('Years')\n",
    "plt.ylabel('Cash ($)')\n",
    "plt.title(f'Saving accounts planning with {periods} withdrawals of ${cf} each per year at {rate}%', pad=20)\n",
    "plt.xticks(saving_simulation.index)\n",
    "plt.legend(bbox_to_anchor=(1.04, 0.5), loc=\"center left\", borderaxespad=0)\n",
    "plt.show()"
   ]
  },
  {
   "cell_type": "markdown",
   "id": "62ae8c93",
   "metadata": {},
   "source": [
    "## 1.2  Compounding with constant cash flows (Simulation 2)"
   ]
  },
  {
   "cell_type": "markdown",
   "id": "c6aab88c",
   "metadata": {},
   "source": [
    "- Compounding cash flows moves them forward in time\n",
    "\n",
    "Future value (FV) of cash flows (CFs) is compounded value of CFs as of time (t):\n",
    "$$\n",
    "FV=\\sum_{t=0}^{\\;n}CF{(1+R)}^t\n",
    "$$"
   ]
  },
  {
   "cell_type": "markdown",
   "id": "dc20d799",
   "metadata": {},
   "source": [
    "Example: How much will we have 8 years from today if we save $300 a year, beggining today, for the next 7 years, assuming we earn 6.3% interest PER ANNUM?"
   ]
  },
  {
   "cell_type": "code",
   "execution_count": 181,
   "id": "535547fd",
   "metadata": {},
   "outputs": [],
   "source": [
    "cf=300\n",
    "periods=8\n",
    "rate=6.3"
   ]
  },
  {
   "cell_type": "code",
   "execution_count": 182,
   "id": "d99da9fe",
   "metadata": {},
   "outputs": [
    {
     "data": {
      "text/html": [
       "<div>\n",
       "<style scoped>\n",
       "    .dataframe tbody tr th:only-of-type {\n",
       "        vertical-align: middle;\n",
       "    }\n",
       "\n",
       "    .dataframe tbody tr th {\n",
       "        vertical-align: top;\n",
       "    }\n",
       "\n",
       "    .dataframe thead th {\n",
       "        text-align: right;\n",
       "    }\n",
       "</style>\n",
       "<table border=\"1\" class=\"dataframe\">\n",
       "  <thead>\n",
       "    <tr style=\"text-align: right;\">\n",
       "      <th></th>\n",
       "      <th>CF_0</th>\n",
       "      <th>CF_1</th>\n",
       "      <th>CF_2</th>\n",
       "      <th>CF_3</th>\n",
       "      <th>CF_4</th>\n",
       "      <th>CF_5</th>\n",
       "      <th>CF_6</th>\n",
       "      <th>CF_7</th>\n",
       "      <th>FV</th>\n",
       "    </tr>\n",
       "  </thead>\n",
       "  <tbody>\n",
       "    <tr>\n",
       "      <th>cash</th>\n",
       "      <td>300.0</td>\n",
       "      <td>300.0</td>\n",
       "      <td>300.0</td>\n",
       "      <td>300.0</td>\n",
       "      <td>300.0</td>\n",
       "      <td>300.0</td>\n",
       "      <td>300.0</td>\n",
       "      <td>300.0</td>\n",
       "      <td>3190.49</td>\n",
       "    </tr>\n",
       "  </tbody>\n",
       "</table>\n",
       "</div>"
      ],
      "text/plain": [
       "       CF_0   CF_1   CF_2   CF_3   CF_4   CF_5   CF_6   CF_7       FV\n",
       "cash  300.0  300.0  300.0  300.0  300.0  300.0  300.0  300.0  3190.49"
      ]
     },
     "execution_count": 182,
     "metadata": {},
     "output_type": "execute_result"
    }
   ],
   "source": [
    "FVs=pd.DataFrame({'cash':[cf]*periods +[np.round(np.sum([cf*(1+rate/100)**period for period in range(1, periods+1)]),2)]},\n",
    "                 index=['CF_'+str(period) if period <periods  else 'FV' for period in range(0, periods+1)])\n",
    "FVs.T"
   ]
  },
  {
   "cell_type": "code",
   "execution_count": 183,
   "id": "eac60e47",
   "metadata": {},
   "outputs": [
    {
     "name": "stdout",
     "output_type": "stream",
     "text": [
      "We will have $3190.49 at the end of 8 years if we save $300 starting \n",
      "today for the next 7 years and our money earns 6.3% per annum.\n"
     ]
    }
   ],
   "source": [
    "interpretation=f'We will have ${FVs.iloc[-1][-1]} at the end of {periods} years if we save ${cf} starting \\ntoday for the next {periods-1} years and our money earns {rate}% per annum.'\n",
    "print(interpretation)"
   ]
  },
  {
   "cell_type": "code",
   "execution_count": 184,
   "id": "792c59f1",
   "metadata": {},
   "outputs": [
    {
     "data": {
      "text/html": [
       "<div>\n",
       "<style scoped>\n",
       "    .dataframe tbody tr th:only-of-type {\n",
       "        vertical-align: middle;\n",
       "    }\n",
       "\n",
       "    .dataframe tbody tr th {\n",
       "        vertical-align: top;\n",
       "    }\n",
       "\n",
       "    .dataframe thead th {\n",
       "        text-align: right;\n",
       "    }\n",
       "</style>\n",
       "<table border=\"1\" class=\"dataframe\">\n",
       "  <thead>\n",
       "    <tr style=\"text-align: right;\">\n",
       "      <th></th>\n",
       "      <th>Interest</th>\n",
       "      <th>Pre-Deposit Balance</th>\n",
       "      <th>Deposit</th>\n",
       "      <th>Post-Deposit Balance</th>\n",
       "    </tr>\n",
       "    <tr>\n",
       "      <th>Year</th>\n",
       "      <th></th>\n",
       "      <th></th>\n",
       "      <th></th>\n",
       "      <th></th>\n",
       "    </tr>\n",
       "  </thead>\n",
       "  <tbody>\n",
       "    <tr>\n",
       "      <th>0</th>\n",
       "      <td>0.00</td>\n",
       "      <td>0.00</td>\n",
       "      <td>300</td>\n",
       "      <td>300.00</td>\n",
       "    </tr>\n",
       "    <tr>\n",
       "      <th>1</th>\n",
       "      <td>18.90</td>\n",
       "      <td>318.90</td>\n",
       "      <td>300</td>\n",
       "      <td>618.90</td>\n",
       "    </tr>\n",
       "    <tr>\n",
       "      <th>2</th>\n",
       "      <td>38.99</td>\n",
       "      <td>657.89</td>\n",
       "      <td>300</td>\n",
       "      <td>957.89</td>\n",
       "    </tr>\n",
       "    <tr>\n",
       "      <th>3</th>\n",
       "      <td>60.35</td>\n",
       "      <td>1018.24</td>\n",
       "      <td>300</td>\n",
       "      <td>1318.24</td>\n",
       "    </tr>\n",
       "    <tr>\n",
       "      <th>4</th>\n",
       "      <td>83.05</td>\n",
       "      <td>1401.29</td>\n",
       "      <td>300</td>\n",
       "      <td>1701.29</td>\n",
       "    </tr>\n",
       "    <tr>\n",
       "      <th>5</th>\n",
       "      <td>107.18</td>\n",
       "      <td>1808.47</td>\n",
       "      <td>300</td>\n",
       "      <td>2108.47</td>\n",
       "    </tr>\n",
       "    <tr>\n",
       "      <th>6</th>\n",
       "      <td>132.83</td>\n",
       "      <td>2241.30</td>\n",
       "      <td>300</td>\n",
       "      <td>2541.30</td>\n",
       "    </tr>\n",
       "    <tr>\n",
       "      <th>7</th>\n",
       "      <td>160.10</td>\n",
       "      <td>2701.40</td>\n",
       "      <td>300</td>\n",
       "      <td>3001.40</td>\n",
       "    </tr>\n",
       "    <tr>\n",
       "      <th>8</th>\n",
       "      <td>189.09</td>\n",
       "      <td>3190.49</td>\n",
       "      <td>0</td>\n",
       "      <td>3190.49</td>\n",
       "    </tr>\n",
       "  </tbody>\n",
       "</table>\n",
       "</div>"
      ],
      "text/plain": [
       "      Interest  Pre-Deposit Balance  Deposit  Post-Deposit Balance\n",
       "Year                                                              \n",
       "0         0.00                 0.00      300                300.00\n",
       "1        18.90               318.90      300                618.90\n",
       "2        38.99               657.89      300                957.89\n",
       "3        60.35              1018.24      300               1318.24\n",
       "4        83.05              1401.29      300               1701.29\n",
       "5       107.18              1808.47      300               2108.47\n",
       "6       132.83              2241.30      300               2541.30\n",
       "7       160.10              2701.40      300               3001.40\n",
       "8       189.09              3190.49        0               3190.49"
      ]
     },
     "execution_count": 184,
     "metadata": {},
     "output_type": "execute_result"
    }
   ],
   "source": [
    "pre_db=np.round(np.cumsum([cf*(1+rate/100)**period for period in range(1, periods+1)]),2) # Pre-deposit balance\n",
    "dep=np.array([cf]*periods+[0]) #Deposit flows\n",
    "saving_simulation_2=pd.DataFrame({'Year': np.arange(periods+1),\n",
    "                                'Interest': np.round(np.hstack((0,(dep+np.hstack((0, pre_db)))[:-1]*rate/100)),2),\n",
    "                                'Pre-Deposit Balance': np.hstack((0, pre_db)),  \n",
    "                                'Deposit': dep, \n",
    "                                'Post-Deposit Balance': dep+np.hstack((0, pre_db))}).set_index('Year')\n",
    "saving_simulation_2"
   ]
  },
  {
   "cell_type": "code",
   "execution_count": 190,
   "id": "8d4b579b",
   "metadata": {},
   "outputs": [
    {
     "data": {
      "image/png": "[encoded data removed]",
      "text/plain": [
       "<Figure size 576x432 with 1 Axes>"
      ]
     },
     "metadata": {
      "needs_background": "light"
     },
     "output_type": "display_data"
    }
   ],
   "source": [
    "plt.scatter(saving_simulation_2.index[1:], saving_simulation_2[\"Interest\"][1:], label =\"Interest\", color='blue', s=50, marker='+')\n",
    "plt.scatter(saving_simulation_2.index[1:], saving_simulation_2[\"Pre-Deposit Balance\"][1:], label =\"Pre-Deposit Balance\", color='cyan', s=50, marker='s')\n",
    "plt.scatter(saving_simulation_2.index[:-1], saving_simulation_2[\"Deposit\"][:-1], label =\"Deposit\", color='green', s=200, marker='+')\n",
    "plt.step(saving_simulation_2.index, saving_simulation_2[\"Post-Deposit Balance\"], where='post', lw=3, label =\"Post-Deposit Balance\", alpha=0.3)\n",
    "plt.step(saving_simulation_2.index[1:], np.cumsum(saving_simulation_2[\"Deposit\"])[1:], where='post', lw=3, label =\"Cummulative Deposit\", alpha=0.5)\n",
    "\n",
    "plt.xlabel('Years')\n",
    "plt.ylabel('Cash ($)')\n",
    "plt.title(f'Saving accounts with {periods} deposit of ${cf} each per year at {rate}%', pad=20)\n",
    "plt.xticks(saving_simulation_2.index)\n",
    "plt.legend(bbox_to_anchor=(1.04, 0.5), loc=\"center left\", borderaxespad=0)\n",
    "plt.show()"
   ]
  },
  {
   "cell_type": "markdown",
   "id": "1adb6cf0",
   "metadata": {},
   "source": [
    "## 1.3  Discounting with constant cash flows + TAXES (Simulation 3)"
   ]
  },
  {
   "cell_type": "markdown",
   "id": "8f521bcf",
   "metadata": {},
   "source": [
    "Example: How much do you have to save today to withdraw $100 at the end of each of the next 9 years if you can earn 5% PER ANNUM with interest taxes at 35% per annum?"
   ]
  },
  {
   "cell_type": "code",
   "execution_count": 388,
   "id": "fec67cd8",
   "metadata": {},
   "outputs": [],
   "source": [
    "cf=100\n",
    "periods=9\n",
    "rate_before_tax=5\n",
    "tax=35"
   ]
  },
  {
   "cell_type": "markdown",
   "id": "ddb1f437",
   "metadata": {},
   "source": [
    "After-tax discount rate (Rt):\n",
    "$$\n",
    "Rt=R(1-tr)\n",
    "$$\n",
    "where $R$ is the nominal return and $tr$ is the tax rate"
   ]
  },
  {
   "cell_type": "code",
   "execution_count": 389,
   "id": "8cda0788",
   "metadata": {},
   "outputs": [
    {
     "name": "stdout",
     "output_type": "stream",
     "text": [
      "The after-tax discount rate is 3.25%\n"
     ]
    }
   ],
   "source": [
    "rate=rate_before_tax/100*(1-tax/100)*100\n",
    "print(f'The after-tax discount rate is {rate}%')"
   ]
  },
  {
   "cell_type": "code",
   "execution_count": 390,
   "id": "43cd380c",
   "metadata": {},
   "outputs": [
    {
     "data": {
      "text/html": [
       "<div>\n",
       "<style scoped>\n",
       "    .dataframe tbody tr th:only-of-type {\n",
       "        vertical-align: middle;\n",
       "    }\n",
       "\n",
       "    .dataframe tbody tr th {\n",
       "        vertical-align: top;\n",
       "    }\n",
       "\n",
       "    .dataframe thead th {\n",
       "        text-align: right;\n",
       "    }\n",
       "</style>\n",
       "<table border=\"1\" class=\"dataframe\">\n",
       "  <thead>\n",
       "    <tr style=\"text-align: right;\">\n",
       "      <th></th>\n",
       "      <th>PV(CF_0)</th>\n",
       "      <th>CF_1</th>\n",
       "      <th>CF_2</th>\n",
       "      <th>CF_3</th>\n",
       "      <th>CF_4</th>\n",
       "      <th>CF_5</th>\n",
       "      <th>CF_6</th>\n",
       "      <th>CF_7</th>\n",
       "      <th>CF_8</th>\n",
       "      <th>CF_9</th>\n",
       "    </tr>\n",
       "  </thead>\n",
       "  <tbody>\n",
       "    <tr>\n",
       "      <th>cash</th>\n",
       "      <td>769.61</td>\n",
       "      <td>100.0</td>\n",
       "      <td>100.0</td>\n",
       "      <td>100.0</td>\n",
       "      <td>100.0</td>\n",
       "      <td>100.0</td>\n",
       "      <td>100.0</td>\n",
       "      <td>100.0</td>\n",
       "      <td>100.0</td>\n",
       "      <td>100.0</td>\n",
       "    </tr>\n",
       "  </tbody>\n",
       "</table>\n",
       "</div>"
      ],
      "text/plain": [
       "      PV(CF_0)   CF_1   CF_2   CF_3   CF_4   CF_5   CF_6   CF_7   CF_8   CF_9\n",
       "cash    769.61  100.0  100.0  100.0  100.0  100.0  100.0  100.0  100.0  100.0"
      ]
     },
     "execution_count": 390,
     "metadata": {},
     "output_type": "execute_result"
    }
   ],
   "source": [
    "CFs_tax=pd.DataFrame({'cash':[np.round(np.sum([cf*(1+rate/100)**-period for period in range(1, periods+1)]),2)] + [cf]*periods},\n",
    "                 index=['CF_'+str(period) if period >0 else 'PV(CF_0)' for period in range(periods+1)])\n",
    "CFs_tax.T"
   ]
  },
  {
   "cell_type": "code",
   "execution_count": 391,
   "id": "26922684",
   "metadata": {},
   "outputs": [
    {
     "data": {
      "text/html": [
       "<div>\n",
       "<style scoped>\n",
       "    .dataframe tbody tr th:only-of-type {\n",
       "        vertical-align: middle;\n",
       "    }\n",
       "\n",
       "    .dataframe tbody tr th {\n",
       "        vertical-align: top;\n",
       "    }\n",
       "\n",
       "    .dataframe thead th {\n",
       "        text-align: right;\n",
       "    }\n",
       "</style>\n",
       "<table border=\"1\" class=\"dataframe\">\n",
       "  <thead>\n",
       "    <tr style=\"text-align: right;\">\n",
       "      <th></th>\n",
       "      <th>Interest</th>\n",
       "      <th>Taxes</th>\n",
       "      <th>Pre-Withdrawal Balance</th>\n",
       "      <th>Withdrawal</th>\n",
       "      <th>Post-Withdrawal Balance</th>\n",
       "    </tr>\n",
       "    <tr>\n",
       "      <th>Year</th>\n",
       "      <th></th>\n",
       "      <th></th>\n",
       "      <th></th>\n",
       "      <th></th>\n",
       "      <th></th>\n",
       "    </tr>\n",
       "  </thead>\n",
       "  <tbody>\n",
       "    <tr>\n",
       "      <th>0</th>\n",
       "      <td>0.00</td>\n",
       "      <td>0.00</td>\n",
       "      <td>0.00</td>\n",
       "      <td>0</td>\n",
       "      <td>769.61</td>\n",
       "    </tr>\n",
       "    <tr>\n",
       "      <th>1</th>\n",
       "      <td>38.48</td>\n",
       "      <td>-13.47</td>\n",
       "      <td>794.62</td>\n",
       "      <td>100</td>\n",
       "      <td>694.62</td>\n",
       "    </tr>\n",
       "    <tr>\n",
       "      <th>2</th>\n",
       "      <td>34.73</td>\n",
       "      <td>-12.16</td>\n",
       "      <td>717.19</td>\n",
       "      <td>100</td>\n",
       "      <td>617.20</td>\n",
       "    </tr>\n",
       "    <tr>\n",
       "      <th>3</th>\n",
       "      <td>30.86</td>\n",
       "      <td>-10.80</td>\n",
       "      <td>637.26</td>\n",
       "      <td>100</td>\n",
       "      <td>537.26</td>\n",
       "    </tr>\n",
       "    <tr>\n",
       "      <th>4</th>\n",
       "      <td>26.86</td>\n",
       "      <td>-9.40</td>\n",
       "      <td>554.72</td>\n",
       "      <td>100</td>\n",
       "      <td>454.72</td>\n",
       "    </tr>\n",
       "    <tr>\n",
       "      <th>5</th>\n",
       "      <td>22.74</td>\n",
       "      <td>-7.96</td>\n",
       "      <td>469.50</td>\n",
       "      <td>100</td>\n",
       "      <td>369.50</td>\n",
       "    </tr>\n",
       "    <tr>\n",
       "      <th>6</th>\n",
       "      <td>18.48</td>\n",
       "      <td>-6.47</td>\n",
       "      <td>381.51</td>\n",
       "      <td>100</td>\n",
       "      <td>281.51</td>\n",
       "    </tr>\n",
       "    <tr>\n",
       "      <th>7</th>\n",
       "      <td>14.08</td>\n",
       "      <td>-4.93</td>\n",
       "      <td>290.66</td>\n",
       "      <td>100</td>\n",
       "      <td>190.66</td>\n",
       "    </tr>\n",
       "    <tr>\n",
       "      <th>8</th>\n",
       "      <td>9.53</td>\n",
       "      <td>-3.34</td>\n",
       "      <td>196.85</td>\n",
       "      <td>100</td>\n",
       "      <td>96.85</td>\n",
       "    </tr>\n",
       "    <tr>\n",
       "      <th>9</th>\n",
       "      <td>4.84</td>\n",
       "      <td>-1.69</td>\n",
       "      <td>100.00</td>\n",
       "      <td>100</td>\n",
       "      <td>0.00</td>\n",
       "    </tr>\n",
       "  </tbody>\n",
       "</table>\n",
       "</div>"
      ],
      "text/plain": [
       "      Interest  Taxes  Pre-Withdrawal Balance  Withdrawal  \\\n",
       "Year                                                        \n",
       "0         0.00   0.00                    0.00           0   \n",
       "1        38.48 -13.47                  794.62         100   \n",
       "2        34.73 -12.16                  717.19         100   \n",
       "3        30.86 -10.80                  637.26         100   \n",
       "4        26.86  -9.40                  554.72         100   \n",
       "5        22.74  -7.96                  469.50         100   \n",
       "6        18.48  -6.47                  381.51         100   \n",
       "7        14.08  -4.93                  290.66         100   \n",
       "8         9.53  -3.34                  196.85         100   \n",
       "9         4.84  -1.69                  100.00         100   \n",
       "\n",
       "      Post-Withdrawal Balance  \n",
       "Year                           \n",
       "0                      769.61  \n",
       "1                      694.62  \n",
       "2                      617.20  \n",
       "3                      537.26  \n",
       "4                      454.72  \n",
       "5                      369.50  \n",
       "6                      281.51  \n",
       "7                      190.66  \n",
       "8                       96.85  \n",
       "9                        0.00  "
      ]
     },
     "execution_count": 391,
     "metadata": {},
     "output_type": "execute_result"
    }
   ],
   "source": [
    "post_wb=np.round(np.cumsum([cf*(1+rate/100)**-period for period in range(1, periods+1)]),2)#Post-Withdrawal Balance\n",
    "interest=np.round(post_wb*rate_before_tax/100,2)\n",
    "taxes=-np.round(interest*tax/100,2)\n",
    "saving_simulation_3=pd.DataFrame({'Year': np.arange(periods+1),\n",
    "                                  'Interest': np.hstack((0,interest[::-1])),\n",
    "                                  'Taxes':np.hstack((0,taxes[::-1])),\n",
    "                                  'Pre-Withdrawal Balance': np.hstack((post_wb+interest+taxes,0))[::-1],  \n",
    "                                  'Withdrawal': np.hstack((0,[cf]*periods)), \n",
    "                                  'Post-Withdrawal Balance': np.hstack((post_wb[::-1], 0))}).set_index('Year')\n",
    "saving_simulation_3"
   ]
  },
  {
   "cell_type": "markdown",
   "id": "9bc853e7",
   "metadata": {},
   "source": [
    "## 1.4  Discounting with varying cash flows: the implication of INFLATION (Simulation 4)"
   ]
  },
  {
   "cell_type": "markdown",
   "id": "6ac97e8a",
   "metadata": {},
   "source": [
    "Example: How much do you have to save today to withdraw $100 at the end of each of the next 9 years if you can earn 5% PER ANNUM with expected inflation at 2.5% per annum?"
   ]
  },
  {
   "cell_type": "code",
   "execution_count": 378,
   "id": "7a9dc4b2",
   "metadata": {},
   "outputs": [],
   "source": [
    "cf=100\n",
    "periods=9\n",
    "rate=5 #nominal rate\n",
    "inf=2.5 #inflation rate"
   ]
  },
  {
   "cell_type": "markdown",
   "id": "5f0af5e8",
   "metadata": {},
   "source": [
    "Real discount rate (RR):\n",
    "$$\n",
    "RR=\\frac{(1+R)}{(1+\\pi)}-1\\approx R-\\pi\n",
    "$$\n",
    "where $R$ is the nominal return and $\\pi$ is the expected inflation"
   ]
  },
  {
   "cell_type": "code",
   "execution_count": 379,
   "id": "9d317c80",
   "metadata": {},
   "outputs": [
    {
     "name": "stdout",
     "output_type": "stream",
     "text": [
      "The after-tax discount rate is 2.5%\n"
     ]
    }
   ],
   "source": [
    "rr=(rate/100 - inf/100)*100 #Commmonly used approximation\n",
    "print(f'The after-tax discount rate is {rr}%')"
   ]
  },
  {
   "cell_type": "markdown",
   "id": "528e9419",
   "metadata": {},
   "source": [
    "- Inflation won't affect the money we earn\n",
    "- Inflation will affect what we can buy with the money\n",
    "- Implication: We need to change withdrawal amount (Increase to buy costlier goods)"
   ]
  },
  {
   "cell_type": "code",
   "execution_count": 380,
   "id": "0817ddf2",
   "metadata": {},
   "outputs": [
    {
     "data": {
      "text/plain": [
       "array([102.5 , 105.06, 107.69, 110.38, 113.14, 115.97, 118.87, 121.84,\n",
       "       124.89])"
      ]
     },
     "execution_count": 380,
     "metadata": {},
     "output_type": "execute_result"
    }
   ],
   "source": [
    "withdrawal_inf=np.round([cf*(1+inf/100)**period for period in range(1, periods+1)], 2)\n",
    "withdrawal_inf #withdrawals grow each year to accomodate inflation"
   ]
  },
  {
   "cell_type": "code",
   "execution_count": 381,
   "id": "6cc52e76",
   "metadata": {},
   "outputs": [
    {
     "data": {
      "text/plain": [
       "799.38"
      ]
     },
     "execution_count": 381,
     "metadata": {},
     "output_type": "execute_result"
    }
   ],
   "source": [
    "pv_inf=np.round(np.sum([cf*(1+rate/100)**-(period+1) for period,cf in enumerate(withdrawal_inf)]),2)\n",
    "pv_inf"
   ]
  },
  {
   "cell_type": "code",
   "execution_count": 382,
   "id": "1924fee1",
   "metadata": {},
   "outputs": [
    {
     "data": {
      "text/html": [
       "<div>\n",
       "<style scoped>\n",
       "    .dataframe tbody tr th:only-of-type {\n",
       "        vertical-align: middle;\n",
       "    }\n",
       "\n",
       "    .dataframe tbody tr th {\n",
       "        vertical-align: top;\n",
       "    }\n",
       "\n",
       "    .dataframe thead th {\n",
       "        text-align: right;\n",
       "    }\n",
       "</style>\n",
       "<table border=\"1\" class=\"dataframe\">\n",
       "  <thead>\n",
       "    <tr style=\"text-align: right;\">\n",
       "      <th></th>\n",
       "      <th>PV(CF_0)</th>\n",
       "      <th>CF_1</th>\n",
       "      <th>CF_2</th>\n",
       "      <th>CF_3</th>\n",
       "      <th>CF_4</th>\n",
       "      <th>CF_5</th>\n",
       "      <th>CF_6</th>\n",
       "      <th>CF_7</th>\n",
       "      <th>CF_8</th>\n",
       "      <th>CF_9</th>\n",
       "    </tr>\n",
       "  </thead>\n",
       "  <tbody>\n",
       "    <tr>\n",
       "      <th>cash</th>\n",
       "      <td>799.38</td>\n",
       "      <td>102.5</td>\n",
       "      <td>105.06</td>\n",
       "      <td>107.69</td>\n",
       "      <td>110.38</td>\n",
       "      <td>113.14</td>\n",
       "      <td>115.97</td>\n",
       "      <td>118.87</td>\n",
       "      <td>121.84</td>\n",
       "      <td>124.89</td>\n",
       "    </tr>\n",
       "  </tbody>\n",
       "</table>\n",
       "</div>"
      ],
      "text/plain": [
       "      PV(CF_0)   CF_1    CF_2    CF_3    CF_4    CF_5    CF_6    CF_7    CF_8  \\\n",
       "cash    799.38  102.5  105.06  107.69  110.38  113.14  115.97  118.87  121.84   \n",
       "\n",
       "        CF_9  \n",
       "cash  124.89  "
      ]
     },
     "execution_count": 382,
     "metadata": {},
     "output_type": "execute_result"
    }
   ],
   "source": [
    "CFs_inf=pd.DataFrame({'cash': np.hstack((pv_inf, withdrawal_inf))},\n",
    "                 index=['CF_'+str(period) if period >0 else 'PV(CF_0)' for period in range(periods+1)])\n",
    "CFs_inf.T"
   ]
  },
  {
   "cell_type": "code",
   "execution_count": 383,
   "id": "07bfa33b",
   "metadata": {},
   "outputs": [
    {
     "data": {
      "text/plain": [
       "[799.38, 736.85, 668.63, 594.37, 513.71, 426.26, 331.6, 229.31, 118.94, -0.0]"
      ]
     },
     "execution_count": 383,
     "metadata": {},
     "output_type": "execute_result"
    }
   ],
   "source": [
    "post_wb_inf=[pv_inf]\n",
    "for i in range(periods):\n",
    "    post_wb_inf.append(np.round(post_wb_inf[i]*(1+rate/100)-withdrawal_inf[i], 2))\n",
    "post_wb_inf"
   ]
  },
  {
   "cell_type": "code",
   "execution_count": 384,
   "id": "d8351877",
   "metadata": {},
   "outputs": [
    {
     "data": {
      "text/plain": [
       "array([39.97, 36.84, 33.43, 29.72, 25.69, 21.31, 16.58, 11.47,  5.95])"
      ]
     },
     "execution_count": 384,
     "metadata": {},
     "output_type": "execute_result"
    }
   ],
   "source": [
    "interest_inf=np.round(np.array(post_wb_inf)*(rate/100),2)\n",
    "interest_inf[:-1]"
   ]
  },
  {
   "cell_type": "code",
   "execution_count": 385,
   "id": "90a221ac",
   "metadata": {},
   "outputs": [
    {
     "data": {
      "text/plain": [
       "array([839.35, 773.69, 702.06, 624.09, 539.4 , 447.57, 348.18, 240.78,\n",
       "       124.89])"
      ]
     },
     "execution_count": 385,
     "metadata": {},
     "output_type": "execute_result"
    }
   ],
   "source": [
    "pre_wb_inf=post_wb_inf+interest_inf\n",
    "pre_wb_inf[:-1]"
   ]
  },
  {
   "cell_type": "code",
   "execution_count": 386,
   "id": "c6af2aa3",
   "metadata": {},
   "outputs": [
    {
     "data": {
      "text/html": [
       "<div>\n",
       "<style scoped>\n",
       "    .dataframe tbody tr th:only-of-type {\n",
       "        vertical-align: middle;\n",
       "    }\n",
       "\n",
       "    .dataframe tbody tr th {\n",
       "        vertical-align: top;\n",
       "    }\n",
       "\n",
       "    .dataframe thead th {\n",
       "        text-align: right;\n",
       "    }\n",
       "</style>\n",
       "<table border=\"1\" class=\"dataframe\">\n",
       "  <thead>\n",
       "    <tr style=\"text-align: right;\">\n",
       "      <th></th>\n",
       "      <th>Interest</th>\n",
       "      <th>Pre-Withdrawal Balance</th>\n",
       "      <th>Withdrawal</th>\n",
       "      <th>Post-Withdrawal Balance</th>\n",
       "    </tr>\n",
       "    <tr>\n",
       "      <th>Year</th>\n",
       "      <th></th>\n",
       "      <th></th>\n",
       "      <th></th>\n",
       "      <th></th>\n",
       "    </tr>\n",
       "  </thead>\n",
       "  <tbody>\n",
       "    <tr>\n",
       "      <th>0</th>\n",
       "      <td>0.00</td>\n",
       "      <td>0.00</td>\n",
       "      <td>0.00</td>\n",
       "      <td>799.38</td>\n",
       "    </tr>\n",
       "    <tr>\n",
       "      <th>1</th>\n",
       "      <td>39.97</td>\n",
       "      <td>839.35</td>\n",
       "      <td>102.50</td>\n",
       "      <td>736.85</td>\n",
       "    </tr>\n",
       "    <tr>\n",
       "      <th>2</th>\n",
       "      <td>36.84</td>\n",
       "      <td>773.69</td>\n",
       "      <td>105.06</td>\n",
       "      <td>668.63</td>\n",
       "    </tr>\n",
       "    <tr>\n",
       "      <th>3</th>\n",
       "      <td>33.43</td>\n",
       "      <td>702.06</td>\n",
       "      <td>107.69</td>\n",
       "      <td>594.37</td>\n",
       "    </tr>\n",
       "    <tr>\n",
       "      <th>4</th>\n",
       "      <td>29.72</td>\n",
       "      <td>624.09</td>\n",
       "      <td>110.38</td>\n",
       "      <td>513.71</td>\n",
       "    </tr>\n",
       "    <tr>\n",
       "      <th>5</th>\n",
       "      <td>25.69</td>\n",
       "      <td>539.40</td>\n",
       "      <td>113.14</td>\n",
       "      <td>426.26</td>\n",
       "    </tr>\n",
       "    <tr>\n",
       "      <th>6</th>\n",
       "      <td>21.31</td>\n",
       "      <td>447.57</td>\n",
       "      <td>115.97</td>\n",
       "      <td>331.60</td>\n",
       "    </tr>\n",
       "    <tr>\n",
       "      <th>7</th>\n",
       "      <td>16.58</td>\n",
       "      <td>348.18</td>\n",
       "      <td>118.87</td>\n",
       "      <td>229.31</td>\n",
       "    </tr>\n",
       "    <tr>\n",
       "      <th>8</th>\n",
       "      <td>11.47</td>\n",
       "      <td>240.78</td>\n",
       "      <td>121.84</td>\n",
       "      <td>118.94</td>\n",
       "    </tr>\n",
       "    <tr>\n",
       "      <th>9</th>\n",
       "      <td>5.95</td>\n",
       "      <td>124.89</td>\n",
       "      <td>124.89</td>\n",
       "      <td>-0.00</td>\n",
       "    </tr>\n",
       "  </tbody>\n",
       "</table>\n",
       "</div>"
      ],
      "text/plain": [
       "      Interest  Pre-Withdrawal Balance  Withdrawal  Post-Withdrawal Balance\n",
       "Year                                                                       \n",
       "0         0.00                    0.00        0.00                   799.38\n",
       "1        39.97                  839.35      102.50                   736.85\n",
       "2        36.84                  773.69      105.06                   668.63\n",
       "3        33.43                  702.06      107.69                   594.37\n",
       "4        29.72                  624.09      110.38                   513.71\n",
       "5        25.69                  539.40      113.14                   426.26\n",
       "6        21.31                  447.57      115.97                   331.60\n",
       "7        16.58                  348.18      118.87                   229.31\n",
       "8        11.47                  240.78      121.84                   118.94\n",
       "9         5.95                  124.89      124.89                    -0.00"
      ]
     },
     "execution_count": 386,
     "metadata": {},
     "output_type": "execute_result"
    }
   ],
   "source": [
    "saving_simulation_3=pd.DataFrame({'Year': np.arange(periods+1),\n",
    "                                  'Interest': np.hstack((0,interest_inf[:-1])),\n",
    "                                  'Pre-Withdrawal Balance': np.hstack((0,pre_wb_inf[:-1] )),  \n",
    "                                  'Withdrawal': np.hstack((0,withdrawal_inf)), \n",
    "                                  'Post-Withdrawal Balance':post_wb_inf}).set_index('Year')\n",
    "saving_simulation_3"
   ]
  }
 ],
 "metadata": {
  "kernelspec": {
   "display_name": "Python 3 (ipykernel)",
   "language": "python",
   "name": "python3"
  },
  "language_info": {
   "codemirror_mode": {
    "name": "ipython",
    "version": 3
   },
   "file_extension": ".py",
   "mimetype": "text/x-python",
   "name": "python",
   "nbconvert_exporter": "python",
   "pygments_lexer": "ipython3",
   "version": "3.9.12"
  }
 },
 "nbformat": 4,
 "nbformat_minor": 5
}
